{
 "cells": [
  {
   "cell_type": "markdown",
   "metadata": {},
   "source": [
    "# Lab | Data Structures "
   ]
  },
  {
   "cell_type": "markdown",
   "metadata": {},
   "source": [
    "## Exercise 1: Working with Lists"
   ]
  },
  {
   "cell_type": "markdown",
   "metadata": {},
   "source": [
    "Imagine you are building a program for a teacher who wants to track the progress of their students throughout the semester. The teacher wants to input the grades of each student one by one, and get a summary of their performance. There are in total 5 students. You are tasked with building the program that will allow the teacher to do this easily.\n",
    "\n",
    "The program will prompt the teacher to enter the grades of each student. Once the teacher has entered all the grades, the program will calculate the total sum of the grades and display it on the screen. Then, the program will create a new list by selecting only the grades of the first, third, and fifth students entered by the teacher, and sort them in ascending order.\n",
    "\n",
    "Finally, the program will print out the new list, along with its length and the number of occurrences of the score 5 in the list. This will give the teacher a good overview of the performance of the selected students, and help them identify any potential issues early on."
   ]
  },
  {
   "cell_type": "markdown",
   "metadata": {},
   "source": [
    "*Hint:*\n",
    "- You can use the input() function to ask the user to enter their information.\n",
    "- Look for list methods to perform the tasks. \n",
    "- Remember, it is possible to get a part of the sequence using:\n",
    "\n",
    "    ```python\n",
    "    sequence[x:y:z]\n",
    "    ```\n",
    "    where x, y, z are integers.\n",
    "\n",
    "    The above returns a new sequence with the following characteristics:\n",
    "\n",
    "    - A sequence with the same type as the original (a slice of a list is a list, a slice of a tuple is a tuple, and a slice of a string is a string).\n",
    "    - A sequence with elements from `sequence [x]` to `sequence [y-1]` (does not include a sequence [y]). By skipping `z` elements each time, it can be omitted if ` z = 1`.\n"
   ]
  },
  {
   "cell_type": "markdown",
   "metadata": {},
   "source": [
    "*Recommended External Resources:*\n",
    "- *[Python Lists](https://www.w3schools.com/python/python_lists.asp)*\n",
    "- *[Python List Methods](https://www.w3schools.com/python/python_ref_list.asp)*\n",
    "- *[Python Built-in Functions](https://docs.python.org/3/library/functions.html)*\n"
   ]
  },
  {
   "cell_type": "code",
   "execution_count": 1,
   "metadata": {},
   "outputs": [
    {
     "name": "stdin",
     "output_type": "stream",
     "text": [
      "Enter the grade of student 1:  15\n",
      "Enter the grade of student 2:  19\n",
      "Enter the grade of student 3:  10\n",
      "Enter the grade of student 4:  14\n",
      "Enter the grade of student 5:  9\n"
     ]
    },
    {
     "name": "stdout",
     "output_type": "stream",
     "text": [
      "The students grades are the following:  [15.0, 19.0, 10.0, 14.0, 9.0]\n"
     ]
    }
   ],
   "source": [
    "# Your code here\n",
    "# Input of student grades using list comprehension\n",
    "students_grades = [float(input(f\"Enter the grade of student {i}: \")) for i in range(1,6)]\n",
    "print(\"The students grades are the following: \",students_grades)"
   ]
  },
  {
   "cell_type": "code",
   "execution_count": 4,
   "metadata": {},
   "outputs": [
    {
     "name": "stdout",
     "output_type": "stream",
     "text": [
      "The total sum of grades is 67.0 out of a possible sum of 100.0\n",
      "The sublist of students grades is: [9.0, 10.0, 15.0], contemplating 3 students out of the 5 in class.\n"
     ]
    }
   ],
   "source": [
    "# Print total sum of grades using f-string\n",
    "print(f\"The total sum of grades is {sum(students_grades)} out of a possible sum of {float(len(students_grades)*20)}\")\n",
    "\n",
    "# Creating sub-list using slice method\n",
    "students_grades_slice = students_grades[0:5:2]\n",
    "\n",
    "# Sorting and printing the sub-list. Sort() method is an in-place method\n",
    "students_grades_slice.sort()\n",
    "print(f\"The sublist of students grades is: {students_grades_slice}, contemplating {len(students_grades_slice)} students out of the {len(students_grades)} in class.\")"
   ]
  },
  {
   "cell_type": "markdown",
   "metadata": {},
   "source": [
    "## Exercise 2: Tuples"
   ]
  },
  {
   "cell_type": "markdown",
   "metadata": {},
   "source": [
    "Imagine you're running a fruit stand and want to keep track of your inventory. Write a Python program that does the following:\n",
    "\n",
    "- Initializes a tuple with 5 different types of fruit.\n",
    "- Outputs the first and last elements of the tuple, so you can see the full range of fruits the store offers.\n",
    "- Replaces the second element of the tuple with a new fruit that the store has recently received, and prints the updated tuple so you can see the changes.\n",
    "- Concatenates a new tuple containing 2 additional fruits to the original tuple, so you can add them to the store inventory, and prints the resulting tuple to see the updated inventory.\n",
    "- Splits the resulting tuple into 2 tuples of 3 elements each (the first tuple contains the first 3 elements, and the second tuple contains the last 3 elements), so you can organize the inventory more effectively.\n",
    "- Combines the 2 tuples from the previous step with the original tuple into a new tuple, and prints the resulting tuple and its length, so you can see the final inventory after all the changes."
   ]
  },
  {
   "cell_type": "markdown",
   "metadata": {},
   "source": [
    "*Recommended External Resources: [Python Tuples Examples and Methods](https://www.w3schools.com/python/python_tuples.asp)*\n",
    "\n"
   ]
  },
  {
   "cell_type": "code",
   "execution_count": 6,
   "metadata": {},
   "outputs": [
    {
     "name": "stdout",
     "output_type": "stream",
     "text": [
      "Pear Orange\n"
     ]
    }
   ],
   "source": [
    "# Your code here\n",
    "\n",
    "# INITIAL 5 ELEMENTS TUPLE\n",
    "orig_fruits = (\"Pear\", \"Banana\", \"Apple\", \"Pineaple\", \"Orange\")\n",
    "print(orig_fruits[0],orig_fruits[-1])"
   ]
  },
  {
   "cell_type": "code",
   "execution_count": 9,
   "metadata": {},
   "outputs": [
    {
     "name": "stdout",
     "output_type": "stream",
     "text": [
      "Updated fruits tuple:  ('Pear', 'Peach', 'Apple', 'Pineaple', 'Orange')\n"
     ]
    }
   ],
   "source": [
    "# REPLACING THE 2ND ELEMENT IN THE TUPLE\n",
    "# Once a tuple is immutable, we first need to convert it to a list, and then re-create the tuple.\n",
    "temp_fruits = list(orig_fruits)\n",
    "# print(temp_fruits)\n",
    "# print(type(temp_fruits))\n",
    "temp_fruits[1] = \"Peach\"\n",
    "# print(temp_fruits)\n",
    "upd_fruits = tuple(temp_fruits)\n",
    "print(\"Updated fruits tuple: \",upd_fruits)\n",
    "# print(type(fruits))"
   ]
  },
  {
   "cell_type": "code",
   "execution_count": 10,
   "metadata": {},
   "outputs": [
    {
     "name": "stdout",
     "output_type": "stream",
     "text": [
      "Updated fruits tuple:  ('Pear', 'Peach', 'Apple', 'Pineaple', 'Orange', 'kiwi', 'Plum')\n"
     ]
    }
   ],
   "source": [
    "# CONCATENATE NEW TUPLE\n",
    "# Once a tuple is immutable, we first need to add 2 lists and then convert to a tuple\n",
    "add_fruits = [\"kiwi\", \"Plum\"]\n",
    "temp_upd_fruits = list(upd_fruits)+add_fruits\n",
    "# print(temp_upd_fruits)\n",
    "upd_fruits = tuple(temp_upd_fruits)\n",
    "print(\"Updated fruits tuple: \",upd_fruits)"
   ]
  },
  {
   "cell_type": "code",
   "execution_count": 24,
   "metadata": {},
   "outputs": [
    {
     "name": "stdout",
     "output_type": "stream",
     "text": [
      "Inventory Part 1/2: ('Pear', 'Peach', 'Apple') \n",
      "Inventory Part 2/2: ('Pineaple', 'Orange', 'kiwi', 'Plum')\n"
     ]
    }
   ],
   "source": [
    "# SPLITING THE UPDATED TUPLE\n",
    "upd_fruits = list(upd_fruits)\n",
    "# print(upd_fruits)\n",
    "upd_fruits_1 = tuple(upd_fruits[:3])\n",
    "upd_fruits_2 = tuple(upd_fruits[3:])\n",
    "print(\"Inventory Part 1/2:\",upd_fruits_1,\"\\nInventory Part 2/2:\",upd_fruits_2)"
   ]
  },
  {
   "cell_type": "code",
   "execution_count": 23,
   "metadata": {},
   "outputs": [
    {
     "name": "stdout",
     "output_type": "stream",
     "text": [
      "Inventory: ('Pear', 'Peach', 'Apple', 'Pineaple', 'Orange', 'kiwi', 'Plum')\n",
      "Number of items in inventory: 7\n"
     ]
    }
   ],
   "source": [
    "# COMBINING THE 2 TUPLES\n",
    "updated_fruits = tuple(list(upd_fruits_1)+list(upd_fruits_2))\n",
    "print(f\"\"\"Inventory: {updated_fruits}\n",
    "Number of items in inventory: {len(updated_fruits)}\"\"\")\n"
   ]
  },
  {
   "cell_type": "markdown",
   "metadata": {},
   "source": [
    "## Exercise 3: Sets"
   ]
  },
  {
   "cell_type": "markdown",
   "metadata": {},
   "source": [
    "Imagine you are a data analyst working for a literature museum. Your manager has given you two poems to analyze, and she wants you to write a Python program to extract useful information from them.\n",
    "\n",
    "Your program should:\n",
    "\n",
    "- Create two sets, one for each poem, containing all unique words in both poems (ignoring case and punctuation).\n",
    "- Print the number of unique words in each set.\n",
    "- Identify and print the unique words present in the first poem but not in the second one.\n",
    "- Identify and print the unique words present in the second poem but not in the first one.\n",
    "- Identify and print the unique words present in both poems and print it in alphabetical order."
   ]
  },
  {
   "cell_type": "markdown",
   "metadata": {},
   "source": [
    "*Recommended External Resources:*\n",
    "- *[Python Sets](https://www.w3schools.com/python/python_sets.asp)* \n",
    "- *[Python Set Methods](https://www.w3schools.com/python/python_ref_set.asp)*\n",
    "- *[Python String Methods](https://www.w3schools.com/python/python_ref_string.asp)*\n"
   ]
  },
  {
   "cell_type": "code",
   "execution_count": 26,
   "metadata": {},
   "outputs": [],
   "source": [
    "poem = \"\"\"Some say the world will end in fire,\n",
    "Some say in ice.\n",
    "From what I’ve tasted of desire\n",
    "I hold with those who favor fire.\n",
    "But if it had to perish twice,\n",
    "I think I know enough of hate\n",
    "To say that for destruction ice\n",
    "Is also great\n",
    "And would suffice.\"\"\"\n",
    "\n",
    "new_poem = \"\"\"Some say life is but a dream,\n",
    "Some say it's a test.\n",
    "From what I've seen and what I deem,\n",
    "I side with those who see it as a quest.\n",
    "\n",
    "But if it had to end today,\n",
    "I think I know enough of love,\n",
    "To say that though it fades away,\n",
    "It's still what we are made of.\"\"\""
   ]
  },
  {
   "cell_type": "code",
   "execution_count": 50,
   "metadata": {},
   "outputs": [
    {
     "name": "stdout",
     "output_type": "stream",
     "text": [
      "Poem's unique words:  {'world', 'enough', 'also', 'twice', 'great', 'desire', 'ice', 'fire', 'who', 'would', 'destruction', 'suffice', 'say', 'what', 'hold', 'i’ve', 'for', 'is', 'and', 'will', 'had', 'perish', 'that', 'if', 'with', 'but', 'know', 'it', 'from', 'favor', 'those', 'of', 'hate', 'some', 'the', 'think', 'tasted', 'in', 'i', 'to', 'end'}\n",
      "\n",
      "New_poem's unique words:  {'enough', \"i've\", 'still', 'are', 'who', 'quest', 'we', 'say', 'what', 'side', 'is', 'see', \"it's\", 'seen', 'and', 'had', 'that', 'away', 'if', 'though', 'made', 'with', 'but', 'dream', 'know', 'life', 'deem', 'it', 'from', 'those', 'today', 'of', 'love', 'some', 'as', 'a', 'think', 'i', 'test', 'fades', 'to', 'end'}\n",
      "\n",
      "The number of unique words in poem is 41\n",
      "The number of unique words in new_poem is 42\n"
     ]
    }
   ],
   "source": [
    "# Your code here\n",
    "\n",
    "# SETs FOR EACH POEM\n",
    "# Sets only allow unique elements\n",
    "poem_set = set(poem.replace(\".\",\"\").replace(\",\",\"\").lower().split())\n",
    "print(\"Poem's unique words: \",poem_set)\n",
    "print()\n",
    "# The split method creates a list of strings where each element is defined by the split argument.\n",
    "# If no arguments are given, the split will remove the empty spaces.\n",
    "# This is the full process:\n",
    "# print(poem_1)\n",
    "# poem_2 = poem_1.split()\n",
    "# print(poem_2)\n",
    "# print(len(poem_2))\n",
    "# poem_3 = set(poem_2)\n",
    "# print(poem_3)\n",
    "# print(len(poem_3))\n",
    "\n",
    "new_poem_set = set(new_poem.replace(\".\",\"\").replace(\",\",\"\").lower().split())\n",
    "print(\"New_poem's unique words: \",new_poem_set)\n",
    "\n",
    "print(f\"\"\"\n",
    "The number of unique words in poem is {len(poem_set)}\n",
    "The number of unique words in new_poem is {len(new_poem_set)}\"\"\")\n"
   ]
  },
  {
   "cell_type": "code",
   "execution_count": 63,
   "metadata": {},
   "outputs": [
    {
     "name": "stdout",
     "output_type": "stream",
     "text": [
      "The alphabetic order of unique words present in both poems is:  ['and', 'but', 'end', 'enough', 'from', 'had', 'i', 'if', 'is', 'it', 'know', 'of', 'say', 'some', 'that', 'think', 'those', 'to', 'what', 'who', 'with']\n"
     ]
    }
   ],
   "source": [
    "poem_inters_new_poem = list(poem_set.intersection(new_poem_set))\n",
    "# print(poem_inters_new_poem)\n",
    "poem_inters_new_poem.sort()\n",
    "print(\"The alphabetic order of unique words present in both poems is: \",poem_inters_new_poem)"
   ]
  },
  {
   "cell_type": "markdown",
   "metadata": {},
   "source": [
    "## Exercise 4: Dictionaries"
   ]
  },
  {
   "cell_type": "markdown",
   "metadata": {},
   "source": [
    "Consider the following dictionary of students with their scores in different subjects. One of the students, Bob, has complained about his score in Philosophy and, after reviewing it, the teacher has decided to update his score to 100. Write a Python program that updates Bob's score in Philosophy to 100 in the dictionary."
   ]
  },
  {
   "cell_type": "markdown",
   "metadata": {},
   "source": [
    "*Recommended External Resources: [Python Dictionary Examples and Methods](https://www.w3schools.com/python/python_dictionaries.asp)*\n"
   ]
  },
  {
   "cell_type": "code",
   "execution_count": 90,
   "metadata": {},
   "outputs": [],
   "source": [
    "grades = {'Alice': {'Physics': 75, 'Math': 85, 'Chemistry': 60, 'Philosophy': 90}, 'Bob': {'Physics': 75, 'Math': 85, 'Chemistry': 60, 'Philosophy': 90}}"
   ]
  },
  {
   "cell_type": "code",
   "execution_count": 92,
   "metadata": {},
   "outputs": [
    {
     "name": "stdout",
     "output_type": "stream",
     "text": [
      "Grades:  {'Alice': {'Physics': 75, 'Math': 85, 'Chemistry': 60, 'Philosophy': 90}, 'Bob': {'Physics': 75, 'Math': 85, 'Chemistry': 60, 'Philosophy': 100}}\n"
     ]
    }
   ],
   "source": [
    "# Your code here\n",
    "\n",
    "# UPDATING GRADES\n",
    "# print(grades)\n",
    "grades['Bob']['Philosophy'] = 100\n",
    "print(\"Grades: \",grades)"
   ]
  },
  {
   "cell_type": "markdown",
   "metadata": {},
   "source": [
    "## Bonus"
   ]
  },
  {
   "cell_type": "markdown",
   "metadata": {},
   "source": [
    "1. Below are the two lists. Write a Python program to convert them into a dictionary in a way that item from list1 is the key and item from list2 is the value."
   ]
  },
  {
   "cell_type": "markdown",
   "metadata": {},
   "source": [
    "*Hint: Use the zip() function. This function takes two or more iterables (like list, dict, string), aggregates them in a tuple, and returns it. Afterwards, you can use a function that turns a tuple into a dictionary.*"
   ]
  },
  {
   "cell_type": "markdown",
   "metadata": {},
   "source": [
    "*Recommended External Resources: [Python Zip Function](https://www.w3schools.com/python/ref_func_zip.asp)*\n"
   ]
  },
  {
   "cell_type": "code",
   "execution_count": 100,
   "metadata": {},
   "outputs": [
    {
     "name": "stdout",
     "output_type": "stream",
     "text": [
      "The grades are the following:  {'Physics': 75, 'Math': 85, 'Chemistry': 60, 'Philosophy': 90}\n"
     ]
    }
   ],
   "source": [
    "keys = ['Physics', 'Math', 'Chemistry', 'Philosophy']\n",
    "values = [75, 85, 60,90]\n",
    "\n",
    "# Your code here\n",
    "# ZIP FUNCITION. CONVERSTION OF TUPLE OF TUPLES INTO A DICTIONARY\n",
    "grades_dict = dict(zip(keys, values))\n",
    "print(\"The grades are the following: \",grades_dict)\n",
    "# print(type(grades_dict))"
   ]
  },
  {
   "cell_type": "markdown",
   "metadata": {},
   "source": [
    "2. Get the subject with the minimum score from the previous dictionary."
   ]
  },
  {
   "cell_type": "markdown",
   "metadata": {},
   "source": [
    "*Hint: Use the built-in function min(). Read about the parameter key.*"
   ]
  },
  {
   "cell_type": "markdown",
   "metadata": {},
   "source": [
    "\n",
    "*Recommended External Resources:*\n",
    "- *[Python Min Function Official Documentation](https://docs.python.org/3.8/library/functions.html#min)*\n",
    "- *[How to use key function in max and min in Python](https://medium.com/analytics-vidhya/how-to-use-key-function-in-max-and-min-in-python-1fdbd661c59c)*"
   ]
  },
  {
   "cell_type": "code",
   "execution_count": 114,
   "metadata": {},
   "outputs": [
    {
     "name": "stdout",
     "output_type": "stream",
     "text": [
      "Subject with the lowest grade:  Chemistry\n"
     ]
    }
   ],
   "source": [
    "# get() method as key of the min() function\n",
    "print(\"Subject with the lowest grade: \", min(grades_dict,key=grades_dict.get))"
   ]
  }
 ],
 "metadata": {
  "kernelspec": {
   "display_name": "Python 3 (ipykernel)",
   "language": "python",
   "name": "python3"
  },
  "language_info": {
   "codemirror_mode": {
    "name": "ipython",
    "version": 3
   },
   "file_extension": ".py",
   "mimetype": "text/x-python",
   "name": "python",
   "nbconvert_exporter": "python",
   "pygments_lexer": "ipython3",
   "version": "3.11.7"
  }
 },
 "nbformat": 4,
 "nbformat_minor": 4
}
